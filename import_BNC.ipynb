{
 "cells": [
  {
   "cell_type": "markdown",
   "source": [
    "This script requires the BNC downloaded in a directory specified below.\n",
    "The BNC-XML can be downloaded at: https://llds.ling-phil.ox.ac.uk/llds/xmlui/handle/20.500.14106/2554"
   ],
   "metadata": {
    "collapsed": false
   }
  },
  {
   "cell_type": "code",
   "execution_count": 1,
   "metadata": {
    "collapsed": true
   },
   "outputs": [],
   "source": [
    "import xml.etree.ElementTree as ET\n",
    "import glob\n",
    "import os"
   ]
  },
  {
   "cell_type": "code",
   "execution_count": 2,
   "outputs": [],
   "source": [
    "# Specify the directory where you've downloaded the BNC-XML files\n",
    "directory = 'C:/Users/cabid/Documents/2554/download/Texts'"
   ],
   "metadata": {
    "collapsed": false
   }
  },
  {
   "cell_type": "code",
   "execution_count": 3,
   "outputs": [],
   "source": [
    "file_names = glob.glob(directory + '/**/*.xml', recursive=True)\n",
    "file_names = [file_name.replace('\\\\', '/') for file_name in file_names]"
   ],
   "metadata": {
    "collapsed": false
   }
  },
  {
   "cell_type": "code",
   "execution_count": 4,
   "outputs": [],
   "source": [
    "spoken_files = []\n",
    "for file in file_names:\n",
    "    tree = ET.parse(file)\n",
    "    root = tree.getroot()\n",
    "    if root.find('.//stext'):\n",
    "        spoken_files.append(file)"
   ],
   "metadata": {
    "collapsed": false
   }
  },
  {
   "cell_type": "code",
   "execution_count": 5,
   "outputs": [],
   "source": [
    "result = []\n",
    "for spoken_file in spoken_files:\n",
    "    tree = ET.parse(spoken_file)\n",
    "    root = tree.getroot()\n",
    "    texts = root.findall('.//stext')\n",
    "    for text_index, text in enumerate(texts):\n",
    "        sentences = text.findall(\".//s\")\n",
    "        for sentence_index, sentence in enumerate(sentences):\n",
    "            words = sentence.findall(\".//w\")\n",
    "            for word_index, word in enumerate(words):\n",
    "                word_text = word.text.replace(\" \", \"\")\n",
    "                word_attrib = list(word.attrib.values())\n",
    "                # Convert the indexes and word attributes to strings\n",
    "                element = [spoken_file, str(text_index), str(sentence_index), str(word_index), word_text] + [str(attr) for attr in word_attrib]\n",
    "                # Join the elements with a tab and append to the result\n",
    "                result.append(\"\\t\".join(element))"
   ],
   "metadata": {
    "collapsed": false
   }
  },
  {
   "cell_type": "code",
   "execution_count": 6,
   "outputs": [],
   "source": [
    "# Check if directory exists\n",
    "if not os.path.exists('r_project'):\n",
    "    os.makedirs('r_project')\n",
    "\n",
    "# Then write the file\n",
    "with open('r_project/SpokenBNC.txt', 'w', encoding='utf-8') as f:\n",
    "    # Write the header\n",
    "    f.write(\"filename\\tstext_id\\tsentence_id\\tword_id\\tword\\tc5\\thw\\tpos\\n\")\n",
    "\n",
    "    # Then write the data\n",
    "    for item in result:\n",
    "        f.write(\"%s\\n\" % item)"
   ],
   "metadata": {
    "collapsed": false
   }
  },
  {
   "cell_type": "code",
   "execution_count": 10,
   "outputs": [
    {
     "data": {
      "text/plain": "['C:/Users/cabid/Documents/2554/download/Texts/D/D8/D8Y.xml',\n 'C:/Users/cabid/Documents/2554/download/Texts/D/D9/D90.xml',\n 'C:/Users/cabid/Documents/2554/download/Texts/D/D9/D91.xml',\n 'C:/Users/cabid/Documents/2554/download/Texts/D/D9/D92.xml',\n 'C:/Users/cabid/Documents/2554/download/Texts/D/D9/D94.xml',\n 'C:/Users/cabid/Documents/2554/download/Texts/D/D9/D95.xml',\n 'C:/Users/cabid/Documents/2554/download/Texts/D/D9/D96.xml',\n 'C:/Users/cabid/Documents/2554/download/Texts/D/D9/D97.xml',\n 'C:/Users/cabid/Documents/2554/download/Texts/D/DC/DCH.xml',\n 'C:/Users/cabid/Documents/2554/download/Texts/D/DC/DCJ.xml',\n 'C:/Users/cabid/Documents/2554/download/Texts/D/DC/DCK.xml',\n 'C:/Users/cabid/Documents/2554/download/Texts/F/F7/F71.xml',\n 'C:/Users/cabid/Documents/2554/download/Texts/F/F7/F72.xml',\n 'C:/Users/cabid/Documents/2554/download/Texts/F/F7/F73.xml',\n 'C:/Users/cabid/Documents/2554/download/Texts/F/F7/F74.xml',\n 'C:/Users/cabid/Documents/2554/download/Texts/F/F7/F75.xml',\n 'C:/Users/cabid/Documents/2554/download/Texts/F/F7/F76.xml',\n 'C:/Users/cabid/Documents/2554/download/Texts/F/F7/F77.xml',\n 'C:/Users/cabid/Documents/2554/download/Texts/F/F7/F78.xml',\n 'C:/Users/cabid/Documents/2554/download/Texts/F/F7/F7A.xml',\n 'C:/Users/cabid/Documents/2554/download/Texts/F/F7/F7C.xml',\n 'C:/Users/cabid/Documents/2554/download/Texts/F/F7/F7E.xml',\n 'C:/Users/cabid/Documents/2554/download/Texts/F/F7/F7F.xml',\n 'C:/Users/cabid/Documents/2554/download/Texts/F/F7/F7G.xml',\n 'C:/Users/cabid/Documents/2554/download/Texts/F/F7/F7J.xml',\n 'C:/Users/cabid/Documents/2554/download/Texts/F/F7/F7K.xml',\n 'C:/Users/cabid/Documents/2554/download/Texts/F/F7/F7L.xml',\n 'C:/Users/cabid/Documents/2554/download/Texts/F/F7/F7M.xml',\n 'C:/Users/cabid/Documents/2554/download/Texts/F/F7/F7N.xml',\n 'C:/Users/cabid/Documents/2554/download/Texts/F/F7/F7R.xml',\n 'C:/Users/cabid/Documents/2554/download/Texts/F/F7/F7S.xml',\n 'C:/Users/cabid/Documents/2554/download/Texts/F/F7/F7T.xml',\n 'C:/Users/cabid/Documents/2554/download/Texts/F/F7/F7U.xml',\n 'C:/Users/cabid/Documents/2554/download/Texts/F/F7/F7V.xml',\n 'C:/Users/cabid/Documents/2554/download/Texts/F/F7/F7W.xml',\n 'C:/Users/cabid/Documents/2554/download/Texts/F/F7/F7X.xml',\n 'C:/Users/cabid/Documents/2554/download/Texts/F/F7/F7Y.xml',\n 'C:/Users/cabid/Documents/2554/download/Texts/F/F8/F81.xml',\n 'C:/Users/cabid/Documents/2554/download/Texts/F/F8/F82.xml',\n 'C:/Users/cabid/Documents/2554/download/Texts/F/F8/F84.xml',\n 'C:/Users/cabid/Documents/2554/download/Texts/F/F8/F85.xml',\n 'C:/Users/cabid/Documents/2554/download/Texts/F/F8/F86.xml',\n 'C:/Users/cabid/Documents/2554/download/Texts/F/F8/F87.xml',\n 'C:/Users/cabid/Documents/2554/download/Texts/F/F8/F88.xml',\n 'C:/Users/cabid/Documents/2554/download/Texts/F/F8/F89.xml',\n 'C:/Users/cabid/Documents/2554/download/Texts/F/F8/F8A.xml',\n 'C:/Users/cabid/Documents/2554/download/Texts/F/F8/F8B.xml',\n 'C:/Users/cabid/Documents/2554/download/Texts/F/F8/F8C.xml',\n 'C:/Users/cabid/Documents/2554/download/Texts/F/F8/F8D.xml',\n 'C:/Users/cabid/Documents/2554/download/Texts/F/F8/F8E.xml',\n 'C:/Users/cabid/Documents/2554/download/Texts/F/F8/F8F.xml',\n 'C:/Users/cabid/Documents/2554/download/Texts/F/F8/F8G.xml',\n 'C:/Users/cabid/Documents/2554/download/Texts/F/F8/F8H.xml',\n 'C:/Users/cabid/Documents/2554/download/Texts/F/F8/F8J.xml',\n 'C:/Users/cabid/Documents/2554/download/Texts/F/F8/F8L.xml',\n 'C:/Users/cabid/Documents/2554/download/Texts/F/F8/F8M.xml',\n 'C:/Users/cabid/Documents/2554/download/Texts/F/F8/F8N.xml',\n 'C:/Users/cabid/Documents/2554/download/Texts/F/F8/F8P.xml',\n 'C:/Users/cabid/Documents/2554/download/Texts/F/F8/F8R.xml',\n 'C:/Users/cabid/Documents/2554/download/Texts/F/F8/F8S.xml',\n 'C:/Users/cabid/Documents/2554/download/Texts/F/F8/F8U.xml',\n 'C:/Users/cabid/Documents/2554/download/Texts/F/FL/FL4.xml',\n 'C:/Users/cabid/Documents/2554/download/Texts/F/FL/FL5.xml',\n 'C:/Users/cabid/Documents/2554/download/Texts/F/FL/FL6.xml',\n 'C:/Users/cabid/Documents/2554/download/Texts/F/FL/FL7.xml',\n 'C:/Users/cabid/Documents/2554/download/Texts/F/FL/FL8.xml',\n 'C:/Users/cabid/Documents/2554/download/Texts/F/FL/FL9.xml',\n 'C:/Users/cabid/Documents/2554/download/Texts/F/FL/FLA.xml',\n 'C:/Users/cabid/Documents/2554/download/Texts/F/FL/FLB.xml',\n 'C:/Users/cabid/Documents/2554/download/Texts/F/FL/FLC.xml',\n 'C:/Users/cabid/Documents/2554/download/Texts/F/FL/FLD.xml',\n 'C:/Users/cabid/Documents/2554/download/Texts/F/FL/FLE.xml',\n 'C:/Users/cabid/Documents/2554/download/Texts/F/FL/FLF.xml',\n 'C:/Users/cabid/Documents/2554/download/Texts/F/FL/FLG.xml',\n 'C:/Users/cabid/Documents/2554/download/Texts/F/FL/FLH.xml',\n 'C:/Users/cabid/Documents/2554/download/Texts/F/FL/FLK.xml',\n 'C:/Users/cabid/Documents/2554/download/Texts/F/FL/FLL.xml',\n 'C:/Users/cabid/Documents/2554/download/Texts/F/FL/FLM.xml',\n 'C:/Users/cabid/Documents/2554/download/Texts/F/FL/FLP.xml',\n 'C:/Users/cabid/Documents/2554/download/Texts/F/FL/FLR.xml',\n 'C:/Users/cabid/Documents/2554/download/Texts/F/FL/FLS.xml',\n 'C:/Users/cabid/Documents/2554/download/Texts/F/FL/FLU.xml',\n 'C:/Users/cabid/Documents/2554/download/Texts/F/FL/FLW.xml',\n 'C:/Users/cabid/Documents/2554/download/Texts/F/FL/FLX.xml',\n 'C:/Users/cabid/Documents/2554/download/Texts/F/FL/FLY.xml',\n 'C:/Users/cabid/Documents/2554/download/Texts/F/FM/FM0.xml',\n 'C:/Users/cabid/Documents/2554/download/Texts/F/FM/FM1.xml',\n 'C:/Users/cabid/Documents/2554/download/Texts/F/FM/FM2.xml',\n 'C:/Users/cabid/Documents/2554/download/Texts/F/FM/FM3.xml',\n 'C:/Users/cabid/Documents/2554/download/Texts/F/FM/FM4.xml',\n 'C:/Users/cabid/Documents/2554/download/Texts/F/FM/FM5.xml',\n 'C:/Users/cabid/Documents/2554/download/Texts/F/FM/FM7.xml',\n 'C:/Users/cabid/Documents/2554/download/Texts/F/FM/FM8.xml',\n 'C:/Users/cabid/Documents/2554/download/Texts/F/FM/FM9.xml',\n 'C:/Users/cabid/Documents/2554/download/Texts/F/FM/FMA.xml',\n 'C:/Users/cabid/Documents/2554/download/Texts/F/FM/FMB.xml',\n 'C:/Users/cabid/Documents/2554/download/Texts/F/FM/FMC.xml',\n 'C:/Users/cabid/Documents/2554/download/Texts/F/FM/FMD.xml',\n 'C:/Users/cabid/Documents/2554/download/Texts/F/FM/FME.xml',\n 'C:/Users/cabid/Documents/2554/download/Texts/F/FM/FMF.xml',\n 'C:/Users/cabid/Documents/2554/download/Texts/F/FM/FMG.xml',\n 'C:/Users/cabid/Documents/2554/download/Texts/F/FM/FMH.xml',\n 'C:/Users/cabid/Documents/2554/download/Texts/F/FM/FMJ.xml',\n 'C:/Users/cabid/Documents/2554/download/Texts/F/FM/FMK.xml',\n 'C:/Users/cabid/Documents/2554/download/Texts/F/FM/FML.xml',\n 'C:/Users/cabid/Documents/2554/download/Texts/F/FM/FMM.xml',\n 'C:/Users/cabid/Documents/2554/download/Texts/F/FM/FMN.xml',\n 'C:/Users/cabid/Documents/2554/download/Texts/F/FM/FMP.xml',\n 'C:/Users/cabid/Documents/2554/download/Texts/F/FM/FMR.xml',\n 'C:/Users/cabid/Documents/2554/download/Texts/F/FM/FMS.xml']"
     },
     "execution_count": 10,
     "metadata": {},
     "output_type": "execute_result"
    }
   ],
   "source": [
    "spoken_files"
   ],
   "metadata": {
    "collapsed": false
   }
  },
  {
   "cell_type": "code",
   "execution_count": null,
   "outputs": [],
   "source": [],
   "metadata": {
    "collapsed": false
   }
  }
 ],
 "metadata": {
  "kernelspec": {
   "display_name": "Python 3",
   "language": "python",
   "name": "python3"
  },
  "language_info": {
   "codemirror_mode": {
    "name": "ipython",
    "version": 2
   },
   "file_extension": ".py",
   "mimetype": "text/x-python",
   "name": "python",
   "nbconvert_exporter": "python",
   "pygments_lexer": "ipython2",
   "version": "2.7.6"
  }
 },
 "nbformat": 4,
 "nbformat_minor": 0
}
